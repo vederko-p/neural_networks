{
 "cells": [
  {
   "cell_type": "code",
   "execution_count": 1,
   "metadata": {
    "_cell_guid": "b1076dfc-b9ad-4769-8c92-a6c4dae69d19",
    "_uuid": "8f2839f25d086af736a60e9eeb907d3b93b6e0e5",
    "execution": {
     "iopub.execute_input": "2021-10-22T10:11:03.644373Z",
     "iopub.status.busy": "2021-10-22T10:11:03.643569Z",
     "iopub.status.idle": "2021-10-22T10:11:05.209331Z",
     "shell.execute_reply": "2021-10-22T10:11:05.208353Z",
     "shell.execute_reply.started": "2021-10-22T10:11:03.644236Z"
    }
   },
   "outputs": [],
   "source": [
    "import numpy as np\n",
    "import pandas as pd\n",
    "\n",
    "import torch\n",
    "import torchvision\n",
    "import torch.nn as nn\n",
    "from torchvision import transforms\n",
    "\n",
    "import os\n",
    "import zipfile"
   ]
  },
  {
   "cell_type": "code",
   "execution_count": 5,
   "metadata": {
    "execution": {
     "iopub.execute_input": "2021-10-22T10:11:29.178003Z",
     "iopub.status.busy": "2021-10-22T10:11:29.177732Z",
     "iopub.status.idle": "2021-10-22T10:11:29.182228Z",
     "shell.execute_reply": "2021-10-22T10:11:29.181230Z",
     "shell.execute_reply.started": "2021-10-22T10:11:29.177975Z"
    }
   },
   "outputs": [],
   "source": [
    "if torch.cuda.is_available():\n",
    "    dev = \"cuda:0\" \n",
    "else:  \n",
    "    dev = \"cpu\"  \n",
    "device = torch.device(dev) "
   ]
  },
  {
   "cell_type": "code",
   "execution_count": 8,
   "metadata": {
    "execution": {
     "iopub.execute_input": "2021-10-22T10:11:56.311058Z",
     "iopub.status.busy": "2021-10-22T10:11:56.310758Z",
     "iopub.status.idle": "2021-10-22T10:12:09.590467Z",
     "shell.execute_reply": "2021-10-22T10:12:09.589863Z",
     "shell.execute_reply.started": "2021-10-22T10:11:56.311020Z"
    }
   },
   "outputs": [],
   "source": [
    "base_dir = \"../input/cian-datafest-2019\"\n",
    "train_dir = os.path.join(base_dir, \"train.zip\")\n",
    "test_dir = os.path.join(base_dir, \"test.zip\")\n",
    "\n",
    "with zipfile.ZipFile(train_dir,\"r\") as z:\n",
    "    z.extractall()\n",
    "    \n",
    "with zipfile.ZipFile(test_dir,\"r\") as z:\n",
    "    z.extractall()"
   ]
  },
  {
   "cell_type": "code",
   "execution_count": 9,
   "metadata": {
    "execution": {
     "iopub.execute_input": "2021-10-22T10:12:09.592679Z",
     "iopub.status.busy": "2021-10-22T10:12:09.592230Z",
     "iopub.status.idle": "2021-10-22T10:12:09.992200Z",
     "shell.execute_reply": "2021-10-22T10:12:09.991196Z",
     "shell.execute_reply.started": "2021-10-22T10:12:09.592639Z"
    }
   },
   "outputs": [],
   "source": [
    "transform = transforms.Compose([transforms.Resize((56,56)), transforms.ToTensor()])\n",
    "\n",
    "train_data = torchvision.datasets.ImageFolder('./train', \n",
    "                                              transform=transform)\n",
    "\n",
    "trainset = torch.utils.data.Subset(train_data, list(range(0, len(train_data), 6)))\n",
    "\n",
    "train_set, val_set = torch.utils.data.random_split(trainset, [6000, 3221])\n",
    "train_data_loader = torch.utils.data.DataLoader(train_set, batch_size=500, \n",
    "                                                shuffle=True, num_workers=2)\n",
    "val_data_loader = torch.utils.data.DataLoader(val_set, batch_size=500, \n",
    "                                              shuffle=True, num_workers=2)"
   ]
  },
  {
   "cell_type": "code",
   "execution_count": null,
   "metadata": {},
   "outputs": [],
   "source": [
    "class CNN(nn.Module):\n",
    "    def __init__(self):\n",
    "        super(CNN, self).__init__()\n",
    "        self.conv_layer1 = nn.Conv2d(in_channels=3, out_channels=8, kernel_size=5, padding=1, stride=1)\n",
    "        self.pooling_layer1 = nn.MaxPool2d(kernel_size=2)\n",
    "        self.conv_layer2 = nn.Conv2d(in_channels=8, out_channels=16, kernel_size=4)\n",
    "        self.pooling_layer2 = nn.AvgPool2d(kernel_size=2)\n",
    "        self.conv_layer3 = nn.Conv2d(in_channels=16, out_channels=32, kernel_size=2, padding=1, stride=2)\n",
    "        \n",
    "        self.linear_layer1 = nn.Linear(in_features=1568, out_features=128)\n",
    "        self.linear_layer2 = nn.Linear(in_features=128, out_features=100)\n",
    "        self.linear_layer3 = nn.Linear(in_features=100, out_features=1)\n",
    "        \n",
    "        self.relu = nn.ReLU()\n",
    "        \n",
    "    def forward(self, x):\n",
    "        output_1 = self.relu(self.conv_layer1(x))\n",
    "        output_2 = self.pooling_layer1(output_1)\n",
    "        output_3 = self.relu(self.conv_layer2(output_2))\n",
    "        output_4 = self.pooling_layer2(output_3)\n",
    "        output_5 = self.relu(self.conv_layer3(output_4))\n",
    "        \n",
    "        output_6 = torch.flatten(output_5, 1)\n",
    "        \n",
    "        output_7 = self.relu(self.linear_layer1(output_6))\n",
    "        output_8 = self.relu(self.linear_layer2(output_7))\n",
    "        output_9 = self.linear_layer3(output_8)\n",
    "        \n",
    "        return output_9"
   ]
  },
  {
   "cell_type": "code",
   "execution_count": null,
   "metadata": {},
   "outputs": [],
   "source": [
    "model = CNN().to(device)\n",
    "print(model)"
   ]
  },
  {
   "cell_type": "code",
   "execution_count": null,
   "metadata": {},
   "outputs": [],
   "source": [
    "criterion = nn.BCEWithLogitsLoss()\n",
    "optimizer = torch.optim.Adam(model.parameters(), lr=0.001)"
   ]
  },
  {
   "cell_type": "code",
   "execution_count": null,
   "metadata": {},
   "outputs": [],
   "source": [
    "# обучение\n",
    "torch.manual_seed(10)\n",
    "\n",
    "epochs = 5\n",
    "\n",
    "total_step = len(train_data_loader)\n",
    "for epoch in range(epochs):\n",
    "    for i, (images, labels) in enumerate(train_data_loader):\n",
    "        images = images.to(device)\n",
    "        labels = labels.reshape(len(labels), 1)\n",
    "        labels = labels.type(torch.FloatTensor)\n",
    "        labels = labels.to(device)\n",
    "\n",
    "        outputs = model(images)\n",
    "        loss = criterion(outputs, labels)\n",
    "\n",
    "        optimizer.zero_grad()\n",
    "        loss.backward()\n",
    "        optimizer.step()\n",
    "        \n",
    "        print ('Epoch [{}/{}], Step [{}/{}], Loss: {:.4f}'\n",
    "               .format(epoch+1, epochs, i+1, total_step, loss.item()))"
   ]
  },
  {
   "cell_type": "code",
   "execution_count": null,
   "metadata": {},
   "outputs": [],
   "source": [
    "# оценка качества\n",
    "with torch.no_grad():\n",
    "    correct = 0\n",
    "    total = 0\n",
    "    for images, labels in val_data_loader:\n",
    "        images = images.to(device)\n",
    "        labels = labels.reshape(len(labels), 1)\n",
    "        labels = labels.type(torch.FloatTensor)\n",
    "        labels = labels.to(device)\n",
    "        \n",
    "        outputs = model(images)\n",
    "        predicted = (torch.sigmoid(outputs.data) > 0.5).float()\n",
    "        total += labels.size(0)\n",
    "        correct += (predicted == labels).sum().item()\n",
    "\n",
    "    print('Accuracy: {} %'.format(100 * correct / total))"
   ]
  },
  {
   "cell_type": "markdown",
   "metadata": {},
   "source": [
    "**Моя архитектура**"
   ]
  },
  {
   "cell_type": "code",
   "execution_count": 10,
   "metadata": {
    "execution": {
     "iopub.execute_input": "2021-10-22T10:12:09.993976Z",
     "iopub.status.busy": "2021-10-22T10:12:09.993647Z",
     "iopub.status.idle": "2021-10-22T10:12:10.014628Z",
     "shell.execute_reply": "2021-10-22T10:12:10.013894Z",
     "shell.execute_reply.started": "2021-10-22T10:12:09.993935Z"
    }
   },
   "outputs": [],
   "source": [
    "class my_CNN(nn.Module):\n",
    "    def __init__(self):\n",
    "        super(my_CNN, self).__init__()\n",
    "        self.conv_layer1 = nn.Conv2d(in_channels=3, out_channels=64, kernel_size=3)\n",
    "        self.conv_layer2 = nn.Conv2d(in_channels=64, out_channels=64, kernel_size=3, padding=2)\n",
    "        self.conv_layer3 = nn.Conv2d(in_channels=64, out_channels=64, kernel_size=2, padding=1)\n",
    "        self.pooling_layer1 = nn.MaxPool2d(kernel_size=2)\n",
    "        \n",
    "        self.conv_layer4 = nn.Conv2d(in_channels=64, out_channels=128, kernel_size=3, padding=2)\n",
    "        self.conv_layer5 = nn.Conv2d(in_channels=128, out_channels=128, kernel_size=2, padding=1)\n",
    "        self.pooling_layer2 = nn.MaxPool2d(kernel_size=2)\n",
    "        \n",
    "        self.conv_layer6 = nn.Conv2d(in_channels=128, out_channels=256, kernel_size=2, padding=2, stride=2)\n",
    "        self.conv_layer7 = nn.Conv2d(in_channels=256, out_channels=256, kernel_size=3)\n",
    "        self.conv_layer8 = nn.Conv2d(in_channels=256, out_channels=256, kernel_size=2)\n",
    "        self.pooling_layer3 = nn.AvgPool2d(kernel_size=2)\n",
    "        \n",
    "        self.linear_layer1 = nn.Linear(in_features=2304, out_features=1024)\n",
    "        self.dropout_1 = nn.Dropout(p=0.5)\n",
    "        self.linear_layer2 = nn.Linear(in_features=1024, out_features=512)\n",
    "        self.dropout_2 = nn.Dropout(p=0.3)\n",
    "        self.linear_layer3 = nn.Linear(in_features=512, out_features=128)\n",
    "        self.dropout_3 = nn.Dropout(p=0.15)\n",
    "        self.linear_layer4 = nn.Linear(in_features=128, out_features=1)\n",
    "        \n",
    "        self.relu = nn.ReLU()\n",
    "        \n",
    "    def forward(self, x):\n",
    "        output = self.relu(self.conv_layer1(x))\n",
    "        output = self.relu(self.conv_layer2(output))\n",
    "        output = self.relu(self.conv_layer3(output))\n",
    "        output = self.pooling_layer1(output)\n",
    "        \n",
    "        output = self.relu(self.conv_layer4(output))\n",
    "        output = self.relu(self.conv_layer5(output))\n",
    "        output = self.pooling_layer2(output)\n",
    "        \n",
    "        output = self.relu(self.conv_layer6(output))\n",
    "        output = self.relu(self.conv_layer7(output))\n",
    "        output = self.relu(self.conv_layer8(output))\n",
    "        output = self.pooling_layer3(output)\n",
    "        \n",
    "        output = torch.flatten(output, 1)\n",
    "        \n",
    "        output = self.linear_layer1(output)\n",
    "        output = self.dropout_1(output)\n",
    "        output = self.linear_layer2(output)\n",
    "        output = self.dropout_2(output)\n",
    "        output = self.linear_layer3(output)\n",
    "        output = self.dropout_3(output)\n",
    "        output = self.linear_layer4(output)\n",
    "        \n",
    "        return output"
   ]
  },
  {
   "cell_type": "code",
   "execution_count": 11,
   "metadata": {
    "execution": {
     "iopub.execute_input": "2021-10-22T10:12:10.016382Z",
     "iopub.status.busy": "2021-10-22T10:12:10.016162Z",
     "iopub.status.idle": "2021-10-22T10:12:10.070147Z",
     "shell.execute_reply": "2021-10-22T10:12:10.068824Z",
     "shell.execute_reply.started": "2021-10-22T10:12:10.016356Z"
    }
   },
   "outputs": [],
   "source": [
    "model = my_CNN().to(device)\n",
    "print(model)"
   ]
  },
  {
   "cell_type": "code",
   "execution_count": 13,
   "metadata": {
    "execution": {
     "iopub.execute_input": "2021-10-22T10:12:55.132429Z",
     "iopub.status.busy": "2021-10-22T10:12:55.131991Z",
     "iopub.status.idle": "2021-10-22T10:12:55.136412Z",
     "shell.execute_reply": "2021-10-22T10:12:55.135874Z",
     "shell.execute_reply.started": "2021-10-22T10:12:55.132396Z"
    }
   },
   "outputs": [],
   "source": [
    "criterion = nn.BCEWithLogitsLoss()\n",
    "optimizer = torch.optim.Adam(model.parameters(), lr=0.001)"
   ]
  },
  {
   "cell_type": "code",
   "execution_count": 14,
   "metadata": {
    "execution": {
     "iopub.execute_input": "2021-10-22T10:12:56.347147Z",
     "iopub.status.busy": "2021-10-22T10:12:56.346749Z",
     "iopub.status.idle": "2021-10-22T10:28:40.615669Z",
     "shell.execute_reply": "2021-10-22T10:28:40.614915Z",
     "shell.execute_reply.started": "2021-10-22T10:12:56.347118Z"
    }
   },
   "outputs": [],
   "source": [
    "# обучение\n",
    "torch.manual_seed(10)\n",
    "\n",
    "epochs = 5\n",
    "\n",
    "total_step = len(train_data_loader)\n",
    "for epoch in range(epochs):\n",
    "    for i, (images, labels) in enumerate(train_data_loader):\n",
    "        images = images.to(device)\n",
    "        labels = labels.reshape(len(labels), 1)\n",
    "        labels = labels.type(torch.FloatTensor)\n",
    "        labels = labels.to(device)\n",
    "\n",
    "        outputs = model(images)\n",
    "        loss = criterion(outputs, labels)\n",
    "\n",
    "        optimizer.zero_grad()\n",
    "        loss.backward()\n",
    "        optimizer.step()\n",
    "        \n",
    "        print ('Epoch [{}/{}], Step [{}/{}], Loss: {:.4f}'\n",
    "               .format(epoch+1, epochs, i+1, total_step, loss.item()))"
   ]
  },
  {
   "cell_type": "code",
   "execution_count": 15,
   "metadata": {
    "execution": {
     "iopub.execute_input": "2021-10-22T10:29:23.291107Z",
     "iopub.status.busy": "2021-10-22T10:29:23.290598Z",
     "iopub.status.idle": "2021-10-22T10:30:00.770718Z",
     "shell.execute_reply": "2021-10-22T10:30:00.769657Z",
     "shell.execute_reply.started": "2021-10-22T10:29:23.291045Z"
    }
   },
   "outputs": [],
   "source": [
    "# оценка качества\n",
    "with torch.no_grad():\n",
    "    correct = 0\n",
    "    total = 0\n",
    "    for images, labels in val_data_loader:\n",
    "        images = images.to(device)\n",
    "        labels = labels.reshape(len(labels), 1)\n",
    "        labels = labels.type(torch.FloatTensor)\n",
    "        labels = labels.to(device)\n",
    "        \n",
    "        outputs = model(images)\n",
    "        predicted = (torch.sigmoid(outputs.data) > 0.5).float()\n",
    "        total += labels.size(0)\n",
    "        correct += (predicted == labels).sum().item()\n",
    "\n",
    "    print('Accuracy: {} %'.format(100 * correct / total))"
   ]
  },
  {
   "cell_type": "code",
   "execution_count": null,
   "metadata": {},
   "outputs": [],
   "source": []
  }
 ],
 "metadata": {
  "kernelspec": {
   "display_name": "Python 3",
   "language": "python",
   "name": "python3"
  },
  "language_info": {
   "codemirror_mode": {
    "name": "ipython",
    "version": 3
   },
   "file_extension": ".py",
   "mimetype": "text/x-python",
   "name": "python",
   "nbconvert_exporter": "python",
   "pygments_lexer": "ipython3",
   "version": "3.7.9"
  }
 },
 "nbformat": 4,
 "nbformat_minor": 4
}
