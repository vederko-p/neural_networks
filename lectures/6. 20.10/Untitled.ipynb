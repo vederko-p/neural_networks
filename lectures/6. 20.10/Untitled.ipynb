{
 "cells": [
  {
   "cell_type": "code",
   "execution_count": null,
   "metadata": {},
   "outputs": [],
   "source": [
    "try:\n",
    "    from google.colab import drive\n",
    "    is_in_colab = True\n",
    "    \n",
    "except:\n",
    "    is_in_colab = False"
   ]
  },
  {
   "cell_type": "code",
   "execution_count": null,
   "metadata": {},
   "outputs": [],
   "source": [
    "is_in_colab"
   ]
  },
  {
   "cell_type": "code",
   "execution_count": null,
   "metadata": {},
   "outputs": [],
   "source": [
    "if is_in_colab:\n",
    "    drive.mount('/content/drive')\n",
    "    data_folder = r'/content/drive/My Drive/data/"
   ]
  },
  {
   "cell_type": "code",
   "execution_count": null,
   "metadata": {},
   "outputs": [],
   "source": [
    "import pandas as pd\n",
    "pd.DataFrame([1,2,3]).to_csv(data_folder+'test123.csv')"
   ]
  },
  {
   "cell_type": "code",
   "execution_count": null,
   "metadata": {},
   "outputs": [],
   "source": [
    "!wget 'https://s743sas.storage.yandex.net/rdisk/fabbec0c40f3943a4d02d60e055b1657523b8c0a9482c94a2653ca1ecf87f999/61704079/CCyJN4vJbUdYvJqGBE2QBRVcFEuZVfAWNFyIsjcfFFQ2n2uVlTxYTcIaMTFyGebHBz8GejjWp5gbflbUnlLZJw==?uid=0&filename=train.rar&disposition=attachment&hash=W8qWNB%2BD8tdlUX1IkjcqW1T%2BomsH5%2BZ%2Bw0uJgQhpVKskS59x/ZPp7TQv9AifVqHzq/J6bpmRyOJonT3VoXnDag%3D%3D&limit=0&content_type=application%2Fx-rar&owner_uid=35020422&fsize=60763384&hid=7ae9255f6f4a812140a52134c2ca94df&media_type=compressed&tknv=v2&rtoken=ijccEcGOZZOE&force_default=no&ycrid=na-2d04c813c0cf1c109d94d584916dc047-downloader4h&ts=5cecb13c65040&s=6b9f89c59a5a8e2d1f30770cc50670ee5176d747d3b529038a835ce67d2726ab&pb=U2FsdGVkX1-jOZ1rLoycvTjain1ojoeENb9wYAeRbnCQN4TX2QgRWTZGjJai_axVtfV7R-7FAkRutYgJxoOSqL06IiGtIUWFrmxRMPdMNms' -O '/content/My Drive/data/train.rar'"
   ]
  },
  {
   "cell_type": "code",
   "execution_count": null,
   "metadata": {},
   "outputs": [],
   "source": [
    "!pip install patool\n",
    "import patoollib\n",
    "patoollib.extract_archive('/content/My Drive/data/train.rar', outdir='/content/My Drive/data/')"
   ]
  }
 ],
 "metadata": {
  "kernelspec": {
   "display_name": "Python 3",
   "language": "python",
   "name": "python3"
  },
  "language_info": {
   "codemirror_mode": {
    "name": "ipython",
    "version": 3
   },
   "file_extension": ".py",
   "mimetype": "text/x-python",
   "name": "python",
   "nbconvert_exporter": "python",
   "pygments_lexer": "ipython3",
   "version": "3.7.9"
  }
 },
 "nbformat": 4,
 "nbformat_minor": 2
}
