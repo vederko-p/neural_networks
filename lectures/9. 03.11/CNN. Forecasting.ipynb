{
 "cells": [
  {
   "cell_type": "markdown",
   "metadata": {},
   "source": [
    "### Задание"
   ]
  },
  {
   "cell_type": "code",
   "execution_count": 1,
   "metadata": {},
   "outputs": [],
   "source": [
    "import torch\n",
    "import torch.nn as nn"
   ]
  },
  {
   "cell_type": "markdown",
   "metadata": {},
   "source": [
    "1. Загрузите выборку passengers.csv. Примените `MinMaxScaler` из модуля `sklearn.preprocessing` в временному ряду `num_passengers`."
   ]
  },
  {
   "cell_type": "code",
   "execution_count": 2,
   "metadata": {},
   "outputs": [],
   "source": [
    "import pandas as pd\n",
    "import numpy as np"
   ]
  },
  {
   "cell_type": "code",
   "execution_count": 3,
   "metadata": {},
   "outputs": [],
   "source": [
    "pas = pd.read_csv('data/passengers.csv', dtype={'num_passangers': np.float64})"
   ]
  },
  {
   "cell_type": "code",
   "execution_count": 4,
   "metadata": {
    "scrolled": true
   },
   "outputs": [
    {
     "data": {
      "text/html": [
       "<div>\n",
       "<style scoped>\n",
       "    .dataframe tbody tr th:only-of-type {\n",
       "        vertical-align: middle;\n",
       "    }\n",
       "\n",
       "    .dataframe tbody tr th {\n",
       "        vertical-align: top;\n",
       "    }\n",
       "\n",
       "    .dataframe thead th {\n",
       "        text-align: right;\n",
       "    }\n",
       "</style>\n",
       "<table border=\"1\" class=\"dataframe\">\n",
       "  <thead>\n",
       "    <tr style=\"text-align: right;\">\n",
       "      <th></th>\n",
       "      <th>date</th>\n",
       "      <th>num_passengers</th>\n",
       "    </tr>\n",
       "  </thead>\n",
       "  <tbody>\n",
       "    <tr>\n",
       "      <th>0</th>\n",
       "      <td>1949-1-1</td>\n",
       "      <td>112</td>\n",
       "    </tr>\n",
       "    <tr>\n",
       "      <th>1</th>\n",
       "      <td>1949-2-1</td>\n",
       "      <td>118</td>\n",
       "    </tr>\n",
       "    <tr>\n",
       "      <th>2</th>\n",
       "      <td>1949-3-1</td>\n",
       "      <td>132</td>\n",
       "    </tr>\n",
       "  </tbody>\n",
       "</table>\n",
       "</div>"
      ],
      "text/plain": [
       "       date  num_passengers\n",
       "0  1949-1-1             112\n",
       "1  1949-2-1             118\n",
       "2  1949-3-1             132"
      ]
     },
     "execution_count": 4,
     "metadata": {},
     "output_type": "execute_result"
    }
   ],
   "source": [
    "pas.head(3)"
   ]
  },
  {
   "cell_type": "code",
   "execution_count": 5,
   "metadata": {},
   "outputs": [],
   "source": [
    "x, y = pas.values[:, :-1], pas.values[:, -1]"
   ]
  },
  {
   "cell_type": "code",
   "execution_count": 7,
   "metadata": {},
   "outputs": [],
   "source": [
    "from sklearn.preprocessing import MinMaxScaler"
   ]
  },
  {
   "cell_type": "code",
   "execution_count": 9,
   "metadata": {},
   "outputs": [],
   "source": [
    "mms = MinMaxScaler()"
   ]
  },
  {
   "cell_type": "code",
   "execution_count": 10,
   "metadata": {},
   "outputs": [],
   "source": [
    "yr = mms.fit_transform(y.reshape(-1, 1))"
   ]
  },
  {
   "cell_type": "markdown",
   "metadata": {},
   "source": [
    "2. Напишите функцию, которая принимает на вход временной ряд и ширину окна `k`, а возвращает `X`, `y` в формате `torch.Tensor`. Каждая строка объекта `X` должна содержать значения временного ряда $y_{t-k}, \\ldots, y_{t-1}$, а на соответствующей позиции объекта `y` будет содержаться ответ $y_t$."
   ]
  },
  {
   "cell_type": "code",
   "execution_count": 60,
   "metadata": {},
   "outputs": [],
   "source": [
    "def make_tensor(y, k):\n",
    "    newX = np.array([]).reshape(0, k)\n",
    "    newY = y[k:]\n",
    "    for i in range(y.shape[0]-k):\n",
    "        newX = np.vstack([newX, y[i:i+k,:].reshape(1, -1)])\n",
    "    return torch.FloatTensor(newX), torch.FloatTensor(newY)"
   ]
  },
  {
   "cell_type": "markdown",
   "metadata": {},
   "source": [
    "3. Воспользуйтесь готовой функцией с шириной окна `k=12`. Измените размерность `X` на (размер выборки, количество каналов `1`, ширина окна `k`)."
   ]
  },
  {
   "cell_type": "code",
   "execution_count": 61,
   "metadata": {},
   "outputs": [],
   "source": [
    "tX, ty = make_tensor(yr, 12)"
   ]
  },
  {
   "cell_type": "code",
   "execution_count": 62,
   "metadata": {},
   "outputs": [
    {
     "data": {
      "text/plain": [
       "'torch.FloatTensor'"
      ]
     },
     "execution_count": 62,
     "metadata": {},
     "output_type": "execute_result"
    }
   ],
   "source": [
    "tX.type()"
   ]
  },
  {
   "cell_type": "code",
   "execution_count": 63,
   "metadata": {},
   "outputs": [],
   "source": [
    "canalsX = tX.reshape(tX.shape[0], 1, 12)"
   ]
  },
  {
   "cell_type": "markdown",
   "metadata": {},
   "source": [
    "4. Разделите выборку на обучение и контроль. Для контроля оставьте 36 последних значений."
   ]
  },
  {
   "cell_type": "code",
   "execution_count": 72,
   "metadata": {},
   "outputs": [],
   "source": [
    "X_train, X_test = canalsX[:-36], canalsX[-36:]\n",
    "y_train, y_test = ty[:-36], ty[-36:]"
   ]
  },
  {
   "cell_type": "markdown",
   "metadata": {},
   "source": [
    "5. Напишите класс для сверточной нейронной сети `CNN`. Нейронная сеть должна иметь следующую архитектуру:"
   ]
  },
  {
   "cell_type": "markdown",
   "metadata": {},
   "source": [
    "- первый слой &ndash; сверточный (`torch.nn.Conv1D`): число каналов на вход &ndash; 1, на выход &ndash; 64, размер ядра свертки &ndash; 8, `stride=1`, функция активации &ndash; ReLU (`torch.nn.ReLU()`);\n",
    "- второй слой &ndash; слой субдискретизации (`torch.nn.MaxPool1d`) с шириной окна 5;\n",
    "- после применения сверточного слоя и слоя субдискретизации необходимо воспользоваться функцией `torch.flatten(..., 1)`, чтобы преобразовать полученный результат в вектор. Количество элементов вектора окажется равным 64 (подумайте, почему);\n",
    "- полученный вектор передается на вход полносвязному слою `torch.nn.Linear` с 50 нейронами скрытого слоя, функция активации также ReLU;\n",
    "- результат передается на выход сети (еще один `torch.nn.Linear` с 1 нейроном на выходном слое)."
   ]
  },
  {
   "cell_type": "code",
   "execution_count": 93,
   "metadata": {},
   "outputs": [],
   "source": [
    "class CNN(nn.Module):\n",
    "    def __init__(self):\n",
    "        super(CNN, self).__init__()\n",
    "        self.conv_layer1 = nn.Conv1d(in_channels=1, out_channels=64, kernel_size=8, stride=1)\n",
    "        self.pool_layer1 = nn.MaxPool1d(kernel_size=5)\n",
    "        \n",
    "        self.linear_layer1 = nn.Linear(in_features=64, out_features=50)\n",
    "        self.linear_layer2 = nn.Linear(in_features=50, out_features=1)\n",
    "        \n",
    "        self.relu = nn.ReLU()\n",
    "        \n",
    "    def forward(self, inputs):\n",
    "        output = self.relu(self.conv_layer1(inputs))\n",
    "        output = self.pool_layer1(output)\n",
    "        \n",
    "        output = torch.flatten(output, 1)\n",
    "        \n",
    "        output = self.relu(self.linear_layer1(output))\n",
    "        output = self.linear_layer2(output)\n",
    "        \n",
    "        return output"
   ]
  },
  {
   "cell_type": "markdown",
   "metadata": {},
   "source": [
    "6. Для обучения сети задайте функцию активации `torch.nn.MSELoss()` и используйте метод `Adam` с шагом обучения `lr=0.001`. Обучите сверточную нейронную сеть на 1000 эпохах. Размер мини-батча &ndash; вся выборка. Во время обучения выводите величину функции потерь на обучающей выборке каждые 100 эпох."
   ]
  },
  {
   "cell_type": "code",
   "execution_count": 99,
   "metadata": {},
   "outputs": [],
   "source": [
    "model = CNN()"
   ]
  },
  {
   "cell_type": "code",
   "execution_count": 100,
   "metadata": {},
   "outputs": [],
   "source": [
    "criterion = nn.MSELoss()\n",
    "optimizer = torch.optim.Adam(model.parameters(), lr=0.001)"
   ]
  },
  {
   "cell_type": "code",
   "execution_count": 101,
   "metadata": {},
   "outputs": [],
   "source": [
    "_ = torch.manual_seed(0)\n",
    "\n",
    "epochs = 1000\n",
    "for epoch in range(epochs):\n",
    "    outputs = model(X_train)\n",
    "    loss = criterion(outputs, y_train)\n",
    "\n",
    "    optimizer.zero_grad()\n",
    "    loss.backward()\n",
    "    optimizer.step()"
   ]
  },
  {
   "cell_type": "markdown",
   "metadata": {},
   "source": [
    "7. Вызовите метод `.eval()` обученной модели, чтобы перейти к построению прогноза. Получите предсказания модели для тестовой выборки. Преобразуйте предсказания обратно к массиву numpy через метод `.data.numpy()`. С помощью метода `inverse_transform` у `MinMaxScaler` получите предсказания для исходного временного ряда."
   ]
  },
  {
   "cell_type": "code",
   "execution_count": 102,
   "metadata": {},
   "outputs": [],
   "source": [
    "_ = model.eval()"
   ]
  },
  {
   "cell_type": "code",
   "execution_count": 116,
   "metadata": {},
   "outputs": [],
   "source": [
    "pred = mms.inverse_transform(model(X_test).detach().numpy())"
   ]
  },
  {
   "cell_type": "markdown",
   "metadata": {},
   "source": [
    "8. Отобразите на графике исходный ряд и полученный прогноз."
   ]
  },
  {
   "cell_type": "code",
   "execution_count": 128,
   "metadata": {},
   "outputs": [],
   "source": [
    "import matplotlib.pyplot as plt"
   ]
  },
  {
   "cell_type": "code",
   "execution_count": 135,
   "metadata": {},
   "outputs": [
    {
     "data": {
      "text/plain": [
       "Text(0.5, 1.0, 'Результаты прогнозирования')"
      ]
     },
     "execution_count": 135,
     "metadata": {},
     "output_type": "execute_result"
    },
    {
     "data": {
      "image/png": "[encoded data removed]",
      "text/plain": [
       "<Figure size 648x504 with 1 Axes>"
      ]
     },
     "metadata": {
      "needs_background": "light"
     },
     "output_type": "display_data"
    }
   ],
   "source": [
    "fig, ax = plt.subplots(figsize=(9,7))\n",
    "\n",
    "x = range(yr[-36:].shape[0])\n",
    "\n",
    "ax.plot(x, y[-36:], label='Исходные данные')\n",
    "ax.plot(x, pred, label='Прогноз')\n",
    "plt.legend(fontsize=13)\n",
    "plt.title('Результаты прогнозирования', fontsize=15)"
   ]
  },
  {
   "cell_type": "code",
   "execution_count": null,
   "metadata": {},
   "outputs": [],
   "source": []
  }
 ],
 "metadata": {
  "kernelspec": {
   "display_name": "Python 3",
   "language": "python",
   "name": "python3"
  },
  "language_info": {
   "codemirror_mode": {
    "name": "ipython",
    "version": 3
   },
   "file_extension": ".py",
   "mimetype": "text/x-python",
   "name": "python",
   "nbconvert_exporter": "python",
   "pygments_lexer": "ipython3",
   "version": "3.7.9"
  }
 },
 "nbformat": 4,
 "nbformat_minor": 4
}
