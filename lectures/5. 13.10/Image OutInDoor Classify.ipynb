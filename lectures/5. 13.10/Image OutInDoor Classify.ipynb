{
 "cells": [
  {
   "cell_type": "markdown",
   "metadata": {},
   "source": [
    "**Библиотеки**"
   ]
  },
  {
   "cell_type": "code",
   "execution_count": 1,
   "metadata": {},
   "outputs": [],
   "source": [
    "import numpy as np\n",
    "from os import walk\n",
    "from PIL import Image, ImageFilter, ImageOps"
   ]
  },
  {
   "cell_type": "markdown",
   "metadata": {},
   "source": [
    "**Загрузка и преобразование оригинальных файлов**"
   ]
  },
  {
   "cell_type": "code",
   "execution_count": 2,
   "metadata": {},
   "outputs": [],
   "source": [
    "img_dir = 'train/'\n",
    "_, _, indoor = next(walk(img_dir + 'indoor'))\n",
    "_, _, outdoor = next(walk(img_dir + 'outdoor'))\n",
    "\n",
    "indoor = [img_dir + 'indoor/' + filename for filename in indoor]\n",
    "outdoor = [img_dir + 'outdoor/' + filename for filename in outdoor]"
   ]
  },
  {
   "cell_type": "code",
   "execution_count": 106,
   "metadata": {},
   "outputs": [
    {
     "data": {
      "image/png": "[encoded data removed]",
      "text/plain": [
       "<PIL.JpegImagePlugin.JpegImageFile image mode=RGB size=75x100 at 0x217D4FC43D0>"
      ]
     },
     "execution_count": 106,
     "metadata": {},
     "output_type": "execute_result"
    }
   ],
   "source": [
    "img = Image.open(indoor[-1])\n",
    "img"
   ]
  },
  {
   "cell_type": "markdown",
   "metadata": {},
   "source": [
    "Формирование признаков:"
   ]
  },
  {
   "cell_type": "code",
   "execution_count": 108,
   "metadata": {},
   "outputs": [],
   "source": [
    "X = np.array([]).reshape(0, 16)\n",
    "for img_path in indoor + outdoor:\n",
    "    img = Image.open(img_path)\n",
    "    array_img = np.asarray(img)\n",
    "    l = array_img.shape[0]\n",
    "    # X:\n",
    "    rmean = array_img[:, :, 0].mean()  # x1\n",
    "    gmean = array_img[:, :, 1].mean()  # x2\n",
    "    bmean = array_img[:, :, 2].mean()  # x3\n",
    "    rstd = array_img[:, :, 0].std()  # x4\n",
    "    gstd = array_img[:, :, 1].std()  # x5\n",
    "    bstd = array_img[:, :, 2].std()  # x6\n",
    "    rq25 = np.quantile(array_img[:, :, 0], 0.25)  # x7\n",
    "    gq25 = np.quantile(array_img[:, :, 1], 0.25)  # x8\n",
    "    bq25 = np.quantile(array_img[:, :, 2], 0.25)  # x9\n",
    "    rmed = np.median(array_img[:, :, 0])  # x10\n",
    "    gmed = np.median(array_img[:, :, 1])  # x11\n",
    "    bmed = np.median(array_img[:, :, 2])  # x12\n",
    "    rq75 = np.quantile(array_img[:, :, 0], 0.75)  # x13\n",
    "    gq75 = np.quantile(array_img[:, :, 1], 0.75)  # x14\n",
    "    bq75 = np.quantile(array_img[:, :, 2], 0.75)  # x15\n",
    "    \n",
    "    intens = array_img.sum(axis=2)\n",
    "    mid = intens[:l//2, :].mean() - intens[l//2:, :].mean()  # x16\n",
    "    \n",
    "    x = np.array([rmean, gmean, rstd, rstd, gstd, bstd, rq25, gq25, bq25,\n",
    "                  rmed, gmed, bmed, rq75, gq75, bq75, mid])\n",
    "    X = np.vstack([X, x])"
   ]
  },
  {
   "cell_type": "code",
   "execution_count": 109,
   "metadata": {},
   "outputs": [
    {
     "data": {
      "text/plain": [
       "(55322, 16)"
      ]
     },
     "execution_count": 109,
     "metadata": {},
     "output_type": "execute_result"
    }
   ],
   "source": [
    "X.shape"
   ]
  },
  {
   "cell_type": "markdown",
   "metadata": {},
   "source": [
    "Формирование целевых признаков:"
   ]
  },
  {
   "cell_type": "code",
   "execution_count": 110,
   "metadata": {},
   "outputs": [],
   "source": [
    "y = np.array([0 for _ in indoor] + [1 for _ in outdoor])"
   ]
  },
  {
   "cell_type": "markdown",
   "metadata": {},
   "source": [
    "Подготовка данных:"
   ]
  },
  {
   "cell_type": "code",
   "execution_count": 111,
   "metadata": {},
   "outputs": [],
   "source": [
    "from sklearn.preprocessing import StandardScaler"
   ]
  },
  {
   "cell_type": "code",
   "execution_count": 123,
   "metadata": {},
   "outputs": [
    {
     "name": "stdout",
     "output_type": "stream",
     "text": [
      "-1.2327525372810865e-15 0.9999999999999986\n"
     ]
    }
   ],
   "source": [
    "scaled_X = StandardScaler().fit_transform(X)\n",
    "print(scaled_X.mean(), scaled_X.std())"
   ]
  },
  {
   "cell_type": "code",
   "execution_count": 113,
   "metadata": {},
   "outputs": [],
   "source": [
    "from sklearn.model_selection import train_test_split"
   ]
  },
  {
   "cell_type": "code",
   "execution_count": 114,
   "metadata": {},
   "outputs": [],
   "source": [
    "X_train, X_test, y_train, y_test = train_test_split(scaled_X, y, test_size=0.01,\n",
    "                                                    random_state=42)"
   ]
  },
  {
   "cell_type": "markdown",
   "metadata": {},
   "source": [
    "**Модель и обучение**"
   ]
  },
  {
   "cell_type": "code",
   "execution_count": 115,
   "metadata": {},
   "outputs": [],
   "source": [
    "from sklearn.linear_model import LogisticRegression"
   ]
  },
  {
   "cell_type": "code",
   "execution_count": 116,
   "metadata": {},
   "outputs": [],
   "source": [
    "model = LogisticRegression()"
   ]
  },
  {
   "cell_type": "code",
   "execution_count": 117,
   "metadata": {},
   "outputs": [
    {
     "name": "stderr",
     "output_type": "stream",
     "text": [
      "C:\\Users\\ski6a\\anaconda3\\lib\\site-packages\\sklearn\\linear_model\\_logistic.py:762: ConvergenceWarning: lbfgs failed to converge (status=1):\n",
      "STOP: TOTAL NO. of ITERATIONS REACHED LIMIT.\n",
      "\n",
      "Increase the number of iterations (max_iter) or scale the data as shown in:\n",
      "    https://scikit-learn.org/stable/modules/preprocessing.html\n",
      "Please also refer to the documentation for alternative solver options:\n",
      "    https://scikit-learn.org/stable/modules/linear_model.html#logistic-regression\n",
      "  n_iter_i = _check_optimize_result(\n"
     ]
    },
    {
     "data": {
      "text/plain": [
       "LogisticRegression()"
      ]
     },
     "execution_count": 117,
     "metadata": {},
     "output_type": "execute_result"
    }
   ],
   "source": [
    "model.fit(X_train, y_train)"
   ]
  },
  {
   "cell_type": "markdown",
   "metadata": {},
   "source": [
    "**Проверка качетсва**"
   ]
  },
  {
   "cell_type": "code",
   "execution_count": 118,
   "metadata": {},
   "outputs": [],
   "source": [
    "from sklearn.metrics import confusion_matrix"
   ]
  },
  {
   "cell_type": "code",
   "execution_count": 119,
   "metadata": {},
   "outputs": [],
   "source": [
    "pred = model.predict(X_test)"
   ]
  },
  {
   "cell_type": "code",
   "execution_count": 120,
   "metadata": {},
   "outputs": [
    {
     "data": {
      "text/plain": [
       "array([[242,  45],\n",
       "       [ 60, 207]], dtype=int64)"
      ]
     },
     "execution_count": 120,
     "metadata": {},
     "output_type": "execute_result"
    }
   ],
   "source": [
    "cm = confusion_matrix(y_test, pred)\n",
    "cm"
   ]
  },
  {
   "cell_type": "markdown",
   "metadata": {},
   "source": [
    "$F-мера$:"
   ]
  },
  {
   "cell_type": "code",
   "execution_count": 121,
   "metadata": {},
   "outputs": [],
   "source": [
    "def F_score(m):\n",
    "    d = m.diagonal()\n",
    "    f1 = 2 * d/m.sum(axis=1) * d/m.sum(axis=0) / (d/m.sum(axis=1) + d/m.sum(axis=0))\n",
    "    # f1, F-мера, F-взешн. многокласс.\n",
    "    return f1, f1.mean(), m.sum(axis=0)@f1 / m.sum()"
   ]
  },
  {
   "cell_type": "code",
   "execution_count": 122,
   "metadata": {},
   "outputs": [
    {
     "name": "stdout",
     "output_type": "stream",
     "text": [
      "f1: [0.82173175 0.79768786]\n",
      "F: 0.8097098049991658\n",
      "Fвз.мн.: 0.8107948179709609\n"
     ]
    }
   ],
   "source": [
    "f1, F, Fm = F_score(cm)\n",
    "print('f1:', f1)\n",
    "print('F:', F)\n",
    "print('Fвз.мн.:', Fm)"
   ]
  },
  {
   "cell_type": "code",
   "execution_count": null,
   "metadata": {},
   "outputs": [],
   "source": []
  }
 ],
 "metadata": {
  "kernelspec": {
   "display_name": "Python 3",
   "language": "python",
   "name": "python3"
  },
  "language_info": {
   "codemirror_mode": {
    "name": "ipython",
    "version": 3
   },
   "file_extension": ".py",
   "mimetype": "text/x-python",
   "name": "python",
   "nbconvert_exporter": "python",
   "pygments_lexer": "ipython3",
   "version": "3.7.9"
  }
 },
 "nbformat": 4,
 "nbformat_minor": 4
}
