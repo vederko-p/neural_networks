{
 "cells": [
  {
   "cell_type": "markdown",
   "metadata": {},
   "source": [
    "<center>\n",
    "<img src=\"img/matplotlib_seaborn.png\">"
   ]
  },
  {
   "cell_type": "markdown",
   "metadata": {},
   "source": [
    "Для оценки распределения переменных, а также выявления закономерностей применяются методы первичного визуального анализа. Библиотеки **Matplotlib** и **Seaborn** являются инструментами для построения всевозможных графиков.\n",
    "\n",
    "В предыдущем уроке было показано, что проводить отрисовку графиков можно, обащаясь непосредственно к столбцам таблицы в `pd.DataFrame`. Другие примеры визуализации связки библиотек Pandas + Matplotlib можно посмотреть по ссылке: https://pandas.pydata.org/pandas-docs/stable/visualization.html.\n",
    "\n",
    "В данном уроке будут рассмотрены некоторые методы проведения первичного визуального анализа данных, основное внимание при этом будет уделено форматированию графиков."
   ]
  },
  {
   "cell_type": "code",
   "execution_count": null,
   "metadata": {},
   "outputs": [],
   "source": [
    "import numpy as np\n",
    "import pandas as pd\n",
    "\n",
    "import matplotlib.pyplot as plt\n",
    "import seaborn as sns\n",
    "%matplotlib inline\n",
    "\n",
    "plt.rcParams['figure.figsize'] = (10,5)"
   ]
  },
  {
   "cell_type": "markdown",
   "metadata": {},
   "source": [
    "# Содержание\n",
    "_________________\n",
    "\n",
    "<p>1. <a href=\"#plt\"><font size='4'>Matplotlib</font></a></p>\n",
    "\n",
    "<ul>\n",
    "<p>1.1. <a href=\"#dim1\"><font size='3'>Распределение одной переменной</font></a></p>\n",
    "<p>1.2. <a href=\"#dim2\"><font size='3'>Распределения двух переменных</font></a></p>\n",
    "<p>1.3. <a href=\"#sub\"><font size='3'>Настройка графиков с помощью subplots</font></a></p>\n",
    "</ul>\n",
    "\n",
    "<p>2. <a href=\"#seaborn\"><font size='4'>Seaborn</font></a></p>\n",
    "    "
   ]
  },
  {
   "cell_type": "markdown",
   "metadata": {},
   "source": [
    "<p><a name=\"plt\"></a></p>"
   ]
  },
  {
   "cell_type": "markdown",
   "metadata": {},
   "source": [
    "# 1. <a href='https://matplotlib.org/gallery/index.html'>Matplotlib</a>\n",
    "\n",
    "Для демонстрации возможностей библиотек Matplotlib и Seaborn воспользуемся набором данных winemag-data_first150k.csv, содержащим информацию об оценках и характеристиках различных видов вина:\n",
    "- **points** &ndash; на какое количество баллов сомелье оценил вино;\n",
    "- **variety** &ndash; тип винограда, используемый для производства вина;\n",
    "- **description** &ndash; несколько предложений от сомелье, описывающих вкус вина, запах, внешний вид и т.д.;\n",
    "- **country** &ndash; страна производства;\n",
    "- **province** &ndash; провинция или государство производства;\n",
    "- **region_1** &ndash; область виноделия в провинции или штате;\n",
    "- **region_2** &ndash; иногда в зоне виноделия встречаются более конкретные районы, значение может быть пустым;\n",
    "- **winery** &ndash; завод, на котором произвели вино;\n",
    "- **designation** &ndash; обозначение;\n",
    "- **price** &ndash; цена."
   ]
  },
  {
   "cell_type": "code",
   "execution_count": null,
   "metadata": {},
   "outputs": [],
   "source": [
    "reviews = pd.read_csv(\"data/winemag-data_first150k.csv\", index_col=0)"
   ]
  },
  {
   "cell_type": "code",
   "execution_count": null,
   "metadata": {},
   "outputs": [],
   "source": [
    "reviews.head()"
   ]
  },
  {
   "cell_type": "markdown",
   "metadata": {},
   "source": [
    "<p><a name=\"dim1\"></a></p>"
   ]
  },
  {
   "cell_type": "markdown",
   "metadata": {},
   "source": [
    "## 1.1. Распределение одной переменной"
   ]
  },
  {
   "cell_type": "markdown",
   "metadata": {},
   "source": [
    "<table>\n",
    "<tr>\n",
    "<td><img src=\"img/1dim-1.png\" width=\"400px\"/></td>\n",
    "<td><img src=\"img/1dim-2.png\" width=\"400px\"/></td>\n",
    "<td><img src=\"img/1dim-3.png\" width=\"400px\"/></td>\n",
    "<td><img src=\"img/1dim-4.png\" width=\"400px\"/></td>\n",
    "\n",
    "<!--<td><img src=\"https://i.imgur.com/ydaMhT1.png\" width=\"350px\"/></td>\n",
    "<td><img src=\"https://i.imgur.com/WLAqDSV.png\" width=\"350px\"/></td>\n",
    "<td><img src=\"https://i.imgur.com/Tj2y9gH.png\"/\"></td>\n",
    "<td><img src=\"https://i.imgur.com/X0qXLCu.png\"/></td>-->\n",
    "</tr>\n",
    "<tr>\n",
    "<td style=\"font-weight:bold; font-size:16px; text-align:center\">Bar Chart</td>\n",
    "<td style=\"font-weight:bold; font-size:16px; text-align:center\">Line Chart</td>\n",
    "<td style=\"font-weight:bold; font-size:16px; text-align:center\">Area Chart</td>\n",
    "<td style=\"font-weight:bold; font-size:16px; text-align:center\">Histogram</td>\n",
    "</tr>\n",
    "<tr>\n",
    "<td style=\"text-align:center\">df.plot.bar()</td>\n",
    "<td style=\"text-align:center\">df.plot.line()</td>\n",
    "<td style=\"text-align:center\">df.plot.area()</td>\n",
    "<td style=\"text-align:center\">df.plot.hist()</td>\n",
    "</tr>\n",
    "<tr>\n",
    "<td style=\"text-align:center\">Good for nominal and small ordinal categorical data.</td>\n",
    "<td style=\"text-align:center\">Good for ordinal categorical and interval data.</td>\n",
    "<td style=\"text-align:center\">Good for ordinal categorical and interval data.</td>\n",
    "<td style=\"text-align:center\">Good for interval data.</td>\n",
    "</tr>\n",
    "</table>"
   ]
  },
  {
   "cell_type": "markdown",
   "metadata": {},
   "source": [
    "Предварительную оценку распределения переменных проводят с помощью столбчатых диаграмм и гистограмм распределения. Такая возможность предусмотрена в опциях метода `.plot()`, с помощью которого ранее производилась визуализация временных рядов. Кроме данного метода, Matplotlib предлагает и другие варианты построения, преимущество которых состоит в возможности форматировать графики."
   ]
  },
  {
   "cell_type": "code",
   "execution_count": null,
   "metadata": {},
   "outputs": [],
   "source": [
    "reviews['province'].value_counts().head(10).plot.bar()\n",
    "plt.show()"
   ]
  },
  {
   "cell_type": "code",
   "execution_count": null,
   "metadata": {},
   "outputs": [],
   "source": [
    "reviews['province'].value_counts().head(10).plot(kind='bar')\n",
    "plt.show()"
   ]
  },
  {
   "cell_type": "code",
   "execution_count": null,
   "metadata": {},
   "outputs": [],
   "source": [
    "reviews['province'].value_counts(ascending=True).tail(10).plot.barh()\n",
    "plt.show()"
   ]
  },
  {
   "cell_type": "code",
   "execution_count": null,
   "metadata": {},
   "outputs": [],
   "source": [
    "reviews['points'].value_counts().sort_index().plot.bar()\n",
    "plt.show()"
   ]
  },
  {
   "cell_type": "code",
   "execution_count": null,
   "metadata": {},
   "outputs": [],
   "source": [
    "reviews['points'].value_counts().sort_index().plot.bar(\n",
    "    color='mediumvioletred'\n",
    ")\n",
    "plt.show()"
   ]
  },
  {
   "cell_type": "markdown",
   "metadata": {},
   "source": [
    "Добавление подписей к осям, их форматирование, добавлений названия и легенды возможно в виде последовательно заданных методов в той же ячейке, в которой происходит построение графика. Добавим, например, название графика распределения очков по винам. Основные параметры графика при этом были заданы внутри метода `plot.bar()`."
   ]
  },
  {
   "cell_type": "code",
   "execution_count": null,
   "metadata": {},
   "outputs": [],
   "source": [
    "ax = reviews['points'].value_counts().sort_index().plot.bar(\n",
    "    figsize=(10, 6),\n",
    "    color='green',\n",
    "    fontsize=14\n",
    ")\n",
    "ax.set_title(\"Rankings Given by Wine Magazine\", fontsize=16)\n",
    "plt.show()"
   ]
  },
  {
   "cell_type": "markdown",
   "metadata": {},
   "source": [
    "Оценку распределения очков можно произвести с помощью методов:\n",
    "- plot.line();\n",
    "- plot.area();\n",
    "- plot.hist()."
   ]
  },
  {
   "cell_type": "code",
   "execution_count": null,
   "metadata": {},
   "outputs": [],
   "source": [
    "reviews['points'].value_counts().sort_index().plot.line();"
   ]
  },
  {
   "cell_type": "code",
   "execution_count": null,
   "metadata": {},
   "outputs": [],
   "source": [
    "reviews['points'].value_counts().sort_index().plot.area(color='green');"
   ]
  },
  {
   "cell_type": "code",
   "execution_count": null,
   "metadata": {},
   "outputs": [],
   "source": [
    "reviews['points'].plot.hist(bins=20, color='mediumvioletred');"
   ]
  },
  {
   "cell_type": "markdown",
   "metadata": {},
   "source": [
    "<p><a name=\"dim2\"></a></p>"
   ]
  },
  {
   "cell_type": "markdown",
   "metadata": {},
   "source": [
    "## 1.2. Распределения двух переменных"
   ]
  },
  {
   "cell_type": "markdown",
   "metadata": {},
   "source": [
    "<table>\n",
    "<tr>\n",
    "<td><img src=\"img/2dim-1.png\" width=\"400px\"/></td>\n",
    "<td><img src=\"img/2dim-2.png\" width=\"400px\"/></td>\n",
    "<td><img src=\"img/2dim-3.png\" width=\"400px\"/></td>\n",
    "<td><img src=\"img/2dim-4.png\" width=\"400px\"/></td>\n",
    "</tr>\n",
    "<tr>\n",
    "<td style=\"font-weight:bold; font-size:16px; text-align:center\">Scatter Plot</td>\n",
    "<td style=\"font-weight:bold; font-size:16px; text-align:center\">Hex Plot</td>\n",
    "<td style=\"font-weight:bold; font-size:16px; text-align:center\">Stacked Bar Chart</td>\n",
    "<td style=\"font-weight:bold; font-size:16px; text-align:center\">Bivariate Line Chart</td>\n",
    "</tr>\n",
    "<tr>\n",
    "<td style=\"text-align:center\">df.plot.scatter()</td>\n",
    "<td style=\"text-align:center\">df.plot.hex()</td>\n",
    "<td style=\"text-align:center\">df.plot.bar(stacked=True)</td>\n",
    "<td style=\"text-align:center\">df.plot.line()</td>\n",
    "</tr>\n",
    "<tr>\n",
    "<td style=\"text-align:center\">Закономерности между парами признаков.</td>\n",
    "<td style=\"text-align:center\">Подходит для непрерывных и категориальных переменных.</td>\n",
    "<td style=\"text-align:center\">Зависимости между непрерывными и порядковыми переменными.</td>\n",
    "<td style=\"text-align:center\">Подходит для порядковых переменных и временных рядов.</td>\n",
    "</tr>\n",
    "</table>"
   ]
  },
  {
   "cell_type": "markdown",
   "metadata": {},
   "source": [
    "Порой при проведении анализа взаимодействия переменных можно увидеть скрытые закономерности в данных."
   ]
  },
  {
   "cell_type": "code",
   "execution_count": null,
   "metadata": {},
   "outputs": [],
   "source": [
    "reviews[reviews['price'] < 100].sample(500).plot.scatter(x='price', y='points', \n",
    "                                                         color='darkslateblue'\n",
    "                                                        );"
   ]
  },
  {
   "cell_type": "code",
   "execution_count": null,
   "metadata": {},
   "outputs": [],
   "source": [
    "reviews[reviews['price'] < 100].plot.hexbin(x='price', y='points',\n",
    "                                            figsize=(12,8), \n",
    "                                            gridsize=15, \n",
    "                                            cmap=plt.cm.Blues\n",
    "                                           );"
   ]
  },
  {
   "cell_type": "code",
   "execution_count": null,
   "metadata": {},
   "outputs": [],
   "source": [
    "wine_counts = pd.read_csv(\"data/top-five-wine-score-counts.csv\", index_col=0)"
   ]
  },
  {
   "cell_type": "code",
   "execution_count": null,
   "metadata": {},
   "outputs": [],
   "source": [
    "wine_counts.head()"
   ]
  },
  {
   "cell_type": "code",
   "execution_count": null,
   "metadata": {},
   "outputs": [],
   "source": [
    "wine_counts.plot.bar(stacked=True, cmap='YlGnBu');"
   ]
  },
  {
   "cell_type": "code",
   "execution_count": null,
   "metadata": {},
   "outputs": [],
   "source": [
    "wine_counts.plot.line(cmap='YlGnBu');"
   ]
  },
  {
   "cell_type": "code",
   "execution_count": null,
   "metadata": {},
   "outputs": [],
   "source": [
    "pd.plotting.scatter_matrix(wine_counts, \n",
    "                          figsize=(15, 15), \n",
    "                           diagonal='hist'\n",
    "                          );"
   ]
  },
  {
   "cell_type": "markdown",
   "metadata": {},
   "source": [
    "<p><a name=\"sub\"></a></p>"
   ]
  },
  {
   "cell_type": "markdown",
   "metadata": {},
   "source": [
    "## 1.3. Настройка графиков с помощью `subplots`"
   ]
  },
  {
   "cell_type": "code",
   "execution_count": null,
   "metadata": {
    "scrolled": true
   },
   "outputs": [],
   "source": [
    "fig, axarr = plt.subplots(2, 1)"
   ]
  },
  {
   "cell_type": "code",
   "execution_count": null,
   "metadata": {},
   "outputs": [],
   "source": [
    "fig, axarr = plt.subplots(2, 1, figsize=(12,6))\n",
    "\n",
    "reviews['points'].value_counts().sort_index().plot.bar(\n",
    "    ax=axarr[0]\n",
    ")\n",
    "\n",
    "reviews['province'].value_counts().head(20).plot.bar(\n",
    "    ax=axarr[1]\n",
    ");"
   ]
  },
  {
   "cell_type": "code",
   "execution_count": null,
   "metadata": {},
   "outputs": [],
   "source": [
    "fig, axarr = plt.subplots(2, 2)\n",
    "\n",
    "reviews['points'].value_counts().sort_index().plot.bar(\n",
    "    ax=axarr[0, 0],\n",
    "    fontsize=12,\n",
    "    color='mediumvioletred'\n",
    ")\n",
    "axarr[0, 0].set_title(\"Wine Scores\", fontsize=16)\n",
    "\n",
    "reviews['variety'].value_counts().head(20).plot.bar(\n",
    "    ax=axarr[1, 0], \n",
    "    fontsize=12, \n",
    "    color='mediumvioletred'\n",
    ")\n",
    "axarr[1, 0].set_title(\"Wine Varieties\", fontsize=16)\n",
    "\n",
    "reviews['province'].value_counts().head(20).plot.bar(\n",
    "    ax=axarr[1, 1], \n",
    "    fontsize=12, \n",
    "    color='mediumvioletred'\n",
    ")\n",
    "axarr[1, 1].set_title(\"Wine Origins\", fontsize=16)\n",
    "\n",
    "reviews['price'].value_counts().plot.hist(\n",
    "    ax=axarr[0, 1], \n",
    "    fontsize=12, \n",
    "    color='mediumvioletred'\n",
    ")\n",
    "axarr[0, 1].set_title(\"Wine Prices\", fontsize=16)\n",
    "\n",
    "plt.subplots_adjust(wspace=0.3, hspace=0.5)"
   ]
  },
  {
   "cell_type": "markdown",
   "metadata": {},
   "source": [
    "<p><a name=\"seaborn\"></a></p>"
   ]
  },
  {
   "cell_type": "markdown",
   "metadata": {},
   "source": [
    "# 2. <a href=\"https://seaborn.pydata.org/examples/index.html\">Seaborn</a>"
   ]
  },
  {
   "cell_type": "markdown",
   "metadata": {},
   "source": [
    "Библиотека Seaborn предоставляет те же возможности, что и Matplotlib, однако отличается более удобными способами построения и форматирования графиков, а также, в целом, графики выглядят более красочными."
   ]
  },
  {
   "cell_type": "markdown",
   "metadata": {},
   "source": [
    "<table>\n",
    "<tr>\n",
    "<td><img src=\"img/sns-1.png\" width=\"400px\"/></td>\n",
    "<td><img src=\"img/sns-2.png\" width=\"400px\"/></td>\n",
    "<td><img src=\"img/sns-3.png\" width=\"400px\"/></td>\n",
    "<td><img src=\"img/sns-9.png\" width=\"400px\"/></td>\n",
    "</tr>\n",
    "<tr>\n",
    "<td style=\"font-weight:bold; font-size:16px; text-align:center\">Distribution Plot</td>\n",
    "<td style=\"font-weight:bold; font-size:16px; text-align:center\">Violin Plot</td>\n",
    "<td style=\"font-weight:bold; font-size:16px; text-align:center\">Box Plot</td>\n",
    "<td style=\"font-weight:bold; font-size:16px; text-align:center\">Heatmap</td>\n",
    "</tr>\n",
    "<tr>\n",
    "<td style=\"text-align:center\">sns.distplot()</td>\n",
    "<td style=\"text-align:center\">sns.violinplot()</td>\n",
    "<td style=\"text-align:center\">sns.boxplot()</td>\n",
    "<td style=\"text-align:center\">sns.heatmap</td>\n",
    "</tr>\n",
    "<tr>\n",
    "<td style=\"text-align:center\">Позволяет посмотреть на распределение переменной.</td>\n",
    "<td style=\"text-align:center\">Более наглядное представление распределения.</td>\n",
    "<td style=\"text-align:center\">\"Ящик с усами\".</td>\n",
    "<td style=\"text-align:center\">Матрица коэффициентов корреляции между переменными.</td>\n",
    "</tr>\n",
    "</table>"
   ]
  },
  {
   "cell_type": "code",
   "execution_count": null,
   "metadata": {},
   "outputs": [],
   "source": [
    "sns.countplot(reviews['points']);"
   ]
  },
  {
   "cell_type": "code",
   "execution_count": null,
   "metadata": {},
   "outputs": [],
   "source": [
    "price_sample = reviews[reviews['price'] < 200]['price']"
   ]
  },
  {
   "cell_type": "code",
   "execution_count": null,
   "metadata": {},
   "outputs": [],
   "source": [
    "fig, axes = plt.subplots(2, 2, figsize=(12,8))\n",
    "\n",
    "price_sample.value_counts().sort_index().plot.line(ax=axes[0, 0]);\n",
    "axes[0, 0].set_title(\"plot.line()\", fontsize=16)\n",
    "\n",
    "sns.distplot(price_sample, \n",
    "             hist=False, \n",
    "             kde_kws={\"shade\": True}, \n",
    "             ax=axes[0, 1]\n",
    "            )\n",
    "axes[0, 1].set_title(\"kdeplot()\", fontsize=16)\n",
    "\n",
    "sns.distplot(price_sample, \n",
    "             kde=False, \n",
    "             ax=axes[1, 0]\n",
    "            )\n",
    "axes[1, 0].set_title(\"histogram\", fontsize=16)\n",
    "\n",
    "sns.distplot(price_sample, \n",
    "             ax=axes[1, 1]\n",
    "            )\n",
    "axes[1, 1].set_title(\"distplot()\", fontsize=16)\n",
    "\n",
    "plt.tight_layout()"
   ]
  },
  {
   "cell_type": "code",
   "execution_count": null,
   "metadata": {},
   "outputs": [],
   "source": [
    "sns.jointplot(x='price', y='points', data=reviews[reviews['price'] < 100]);"
   ]
  },
  {
   "cell_type": "code",
   "execution_count": null,
   "metadata": {},
   "outputs": [],
   "source": [
    "sns.jointplot(x='price', y='points', \n",
    "              data=reviews[reviews['price'] < 100], \n",
    "              kind='hex', \n",
    "              gridsize=20\n",
    "             );"
   ]
  },
  {
   "cell_type": "code",
   "execution_count": null,
   "metadata": {},
   "outputs": [],
   "source": [
    "sns.violinplot(\n",
    "    x='variety',\n",
    "    y='points',\n",
    "    data=reviews[reviews.variety.isin(reviews.variety.value_counts()[:5].index)]\n",
    ");"
   ]
  },
  {
   "cell_type": "code",
   "execution_count": null,
   "metadata": {},
   "outputs": [],
   "source": [
    "top_variety = reviews[reviews.variety.isin(reviews.variety.value_counts().head(5).index)]\n",
    "\n",
    "sns.boxplot(\n",
    "    x='variety',\n",
    "    y='points',\n",
    "    data=top_variety\n",
    ");"
   ]
  },
  {
   "cell_type": "code",
   "execution_count": null,
   "metadata": {},
   "outputs": [],
   "source": [
    "sns.pairplot(reviews[['price', 'points']].dropna(), height=4, aspect=1.4);"
   ]
  },
  {
   "cell_type": "markdown",
   "metadata": {
    "collapsed": true
   },
   "source": [
    "<div class=\"alert alert-info\">\n",
    "\n",
    "<h3> Упражнения (выполнять в отдельном файле)</h3>\n",
    "<p>Для данных titanic.csv</p>\n",
    "\n",
    " <ol>\n",
    "  <li>Cравнить распределения признаков с помощью distplot, violinplot, boxplot. Отформатировать графики.</li>\n",
    " <p></p>\n",
    " \n",
    "  <li>Построить матрицу коэффициентов корреляции Спирмена для данных Титаника. Объяснить отличие от корреляции Пирсона и сделать выводы, почему для некоторых переменных корреляция Спирмена сильнее.</li>\n",
    "          <p></p>\n",
    "  \n",
    "\n",
    " </ol> \n",
    "</div>"
   ]
  },
  {
   "cell_type": "code",
   "execution_count": null,
   "metadata": {},
   "outputs": [],
   "source": []
  },
  {
   "cell_type": "code",
   "execution_count": null,
   "metadata": {},
   "outputs": [],
   "source": []
  },
  {
   "cell_type": "code",
   "execution_count": null,
   "metadata": {},
   "outputs": [],
   "source": []
  }
 ],
 "metadata": {
  "kernelspec": {
   "display_name": "Python 3",
   "language": "python",
   "name": "python3"
  },
  "language_info": {
   "codemirror_mode": {
    "name": "ipython",
    "version": 3
   },
   "file_extension": ".py",
   "mimetype": "text/x-python",
   "name": "python",
   "nbconvert_exporter": "python",
   "pygments_lexer": "ipython3",
   "version": "3.8.5"
  }
 },
 "nbformat": 4,
 "nbformat_minor": 2
}
